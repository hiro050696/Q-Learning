{
  "cells": [
    {
      "metadata": {},
      "cell_type": "markdown",
      "source": "Q-Learning dạng bảng\n------------------------------------------"
    },
    {
      "metadata": {
        "collapsed": true,
        "trusted": true
      },
      "cell_type": "code",
      "source": "import gym\nimport numpy as np\nimport matplotlib.pyplot as plt",
      "execution_count": 1,
      "outputs": []
    },
    {
      "metadata": {},
      "cell_type": "markdown",
      "source": "Tạo enviroment FrozenLake-v0, khởi tạo bảng **Q-table** kích thước 16x4 với giá trị ban đầu của tất cả các cell bằng 0"
    },
    {
      "metadata": {
        "collapsed": true,
        "trusted": true
      },
      "cell_type": "code",
      "source": "env = gym.make('FrozenLake-v0')\nQ = np.zeros([16,4])",
      "execution_count": 2,
      "outputs": []
    },
    {
      "metadata": {},
      "cell_type": "markdown",
      "source": "Cài đặt các thông số cho quá trình learning"
    },
    {
      "metadata": {
        "collapsed": true,
        "trusted": true
      },
      "cell_type": "code",
      "source": "lr = 0.8                         # Learning rate\ny = 0.95                         # gamma, discount reward\nnum_episodes = 2000              # Number of episodes, or number of game\nrList = []                       # List of accumulate reward over episode",
      "execution_count": 3,
      "outputs": []
    },
    {
      "metadata": {},
      "cell_type": "markdown",
      "source": "Xây dựng hàm lựa chọn action từ bảng Q(s,a). Sử dụng thuật toán tham lam. Noise sẽ được giảm theo số episodes, đảm bảo explore nhiều những episodes đầu và exploit ở những episode sau."
    },
    {
      "metadata": {
        "collapsed": true,
        "trusted": true
      },
      "cell_type": "code",
      "source": "def selectAction():\n    noise = np.random.randn(1,4)*(1.0/(i+1)) \n    a = np.argmax(Q[s,:] + noise)\n    return a",
      "execution_count": 4,
      "outputs": []
    },
    {
      "metadata": {},
      "cell_type": "markdown",
      "source": "Cập nhật bảng **Q(s,a)** theo phương trình Bellman. Trong đó, $ \\alpha $ là learing rate (lr), $ \\gamma $ là hệ số discount reward (y):\n\n$$Q(s,a) = Q(s,a) + \\alpha [r + \\gamma max_a Q(s',a') - Q(s,a)]$$"
    },
    {
      "metadata": {
        "collapsed": true,
        "trusted": true
      },
      "cell_type": "code",
      "source": "def updateQ(s,a,s1,r,lr,y):\n    global Q\n    Q[s,a] = Q[s,a] + lr*(r + y*np.max(Q[s1,:])-Q[s,a])  # s1,a1 <=> s',a'",
      "execution_count": 5,
      "outputs": []
    },
    {
      "metadata": {},
      "cell_type": "markdown",
      "source": "Episode sẽ kết thúc nếu d==True, khi mà agent đạt tới vị trí Goal hoặc rơi xuống hố băng.\nEpisode cũng sẽ kết thúc nếu j=100, giúp chương trình không bị lặp vô hạn khi agent thực hiện các trạng thái lặp đi lặp lại."
    },
    {
      "metadata": {
        "trusted": true,
        "collapsed": true
      },
      "cell_type": "code",
      "source": "if __name__ == '__main__':\n    for i in range(num_episodes):\n        s = env.reset()                    # Reset enviroment, return start state\n        rAll = 0\n        j = 0\n        while j<100:\n            a = selectAction()             # Select action\n            s1,r,d,info = env.step(a)      # executable actions\n            updateQ(s,a,s1,r,lr,y)         # update Q-table\n            rAll += r                      # accumulate reward\n            s = s1                         # update state\n            if d==True:\n                break\n        rList.append(rAll)",
      "execution_count": 7,
      "outputs": []
    },
    {
      "metadata": {
        "trusted": true
      },
      "cell_type": "code",
      "source": "plt.plot(rList)\nplt.show()\nprint ('end')",
      "execution_count": 8,
      "outputs": [
        {
          "data": {
            "image/png": "[encoded data removed]",
            "text/plain": "<matplotlib.figure.Figure at 0x7f913c1b6828>"
          },
          "output_type": "display_data",
          "metadata": {}
        },
        {
          "output_type": "stream",
          "name": "stdout",
          "text": "end\n"
        }
      ]
    },
    {
      "metadata": {},
      "cell_type": "markdown",
      "source": "Biểu đồ trên cho thấy, số episode mà agent tới được vị trí Goal tăng dần trên toàn bộ 2000 episode"
    }
  ],
  "metadata": {
    "language_info": {
      "version": "3.5.2",
      "mimetype": "text/x-python",
      "nbconvert_exporter": "python",
      "codemirror_mode": {
        "version": 3,
        "name": "ipython"
      },
      "pygments_lexer": "ipython3",
      "name": "python",
      "file_extension": ".py"
    },
    "kernelspec": {
      "name": "python3",
      "display_name": "Python 3",
      "language": "python"
    },
    "gist": {
      "id": "7f69f45d70223749a5f73895fabf47a0",
      "data": {
        "description": "Q-learning/Q_Table.ipynb",
        "public": true
      }
    },
    "_draft": {
      "nbviewer_url": "https://gist.github.com/7f69f45d70223749a5f73895fabf47a0"
    }
  },
  "nbformat": 4,
  "nbformat_minor": 2
}
