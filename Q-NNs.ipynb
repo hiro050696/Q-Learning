{
 "cells": [
  {
   "cell_type": "markdown",
   "metadata": {},
   "source": [
    "Q-Learning sử dụng Neural Network\n",
    "-------------------------"
   ]
  },
  {
   "cell_type": "code",
   "execution_count": 20,
   "metadata": {
    "collapsed": true
   },
   "outputs": [],
   "source": [
    "import gym\n",
    "import numpy as np\n",
    "import random\n",
    "import torch\n",
    "import torch.nn as nn\n",
    "from torch.autograd import Variable\n",
    "import matplotlib.pyplot as plt"
   ]
  },
  {
   "cell_type": "markdown",
   "metadata": {},
   "source": [
    "Khởi tạo các thông số cho learning"
   ]
  },
  {
   "cell_type": "code",
   "execution_count": 21,
   "metadata": {
    "collapsed": true
   },
   "outputs": [],
   "source": [
    "lr = 1e-2                                    # Learning rate\n",
    "e = 0.1                                      # He so su dung cho greedly\n",
    "y = 0.99                                     # gamma, he so discount reward\n",
    "num_episodes = 2000                          # So game se choi\n",
    "jList = []          # List chua tong so action thuc hien cua moi episode\n",
    "rList = []          # List chua tong reward nhan duoc cua moi episode               "
   ]
  },
  {
   "cell_type": "markdown",
   "metadata": {},
   "source": [
    "### Xây dựng **Neural Network - Function Approximation** cho **Q-Learning**\n",
    "**Architecture: ** 16:4.  \n",
    "**Input: **one-hot vector [16x1] mô tả state. Trong FrozenLake-v0, có 16 state tương ứng 16 vị trí agent có thể tới.  \n",
    "**Output:** vector [4x1] đại diện cho **Q(s,a)** a = $\\overline{1..4}$ tương ứng với 4 action: up,down,left,right.  \n",
    "**Weight Initialization:** Khởi tạo trong khoảng (0,0.01), do Q(s,a) < 1.  \n",
    "**Activation Function, Bias:** None.  \n",
    "**Loss:** MSE  \n",
    "**Optimization: **Adam.  "
   ]
  },
  {
   "cell_type": "code",
   "execution_count": 22,
   "metadata": {
    "collapsed": true
   },
   "outputs": [],
   "source": [
    "model = nn.Linear(16,4,bias=False)                      # Neural Network\n",
    "nn.init.uniform(model.weight,0,0.01)                    # Weight initialization\n",
    "loss_fn = nn.MSELoss(size_average=False)                # Mean square error\n",
    "optim = torch.optim.Adam(model.parameters(),lr=lr)      # Optimization"
   ]
  },
  {
   "cell_type": "code",
   "execution_count": 23,
   "metadata": {
    "collapsed": true
   },
   "outputs": [],
   "source": [
    "env = gym.make('FrozenLake-v0')   # Tao enviroment Frozenlake-v0"
   ]
  },
  {
   "cell_type": "markdown",
   "metadata": {},
   "source": [
    "Hàm lựa chọn action. Sử dụng nhiễu (noise) giúp agent có thể tiếp tục explore môi trường, không bị rơi vào local optimizer"
   ]
  },
  {
   "cell_type": "code",
   "execution_count": 24,
   "metadata": {
    "collapsed": true
   },
   "outputs": [],
   "source": [
    "def selectAction(s):\n",
    "    Q = model(s)                         #Predict Q(s,s) [4x1]\n",
    "    Qmax,a = Q.max(1)                    # Lấy giá trị, chỉ số lớn nhất của Q(s,a)\n",
    "    a = a.data[0]                        # Tensor a -> int a\n",
    "    if np.random.rand(1) < e:            # Tạo noise\n",
    "        a = env.action_space.sample()    # Get a random action\n",
    "    return a,Q"
   ]
  },
  {
   "cell_type": "markdown",
   "metadata": {},
   "source": [
    "Training Neural Network dự đoán được giá trị **Q(s,a)** khi biết đầu vào trạng thái, reward. Hàm loss được định nghĩa như sau:  \n",
    "\n",
    "$$loss = Q(s,a) -[r + \\gamma max_a Q(s',a')] $$\n",
    "\n",
    "Trong đó, r là reward $ \\gamma $ là hệ số discount reward (y):"
   ]
  },
  {
   "cell_type": "code",
   "execution_count": 25,
   "metadata": {
    "collapsed": true
   },
   "outputs": [],
   "source": [
    "def UpdateQ(s1,r):\n",
    "    Q1 = model(s1)              # Predict s1->Q(s1,a1)\n",
    "    Qmax,_ = Q1.max(1)          # Chon gia tri Q(s1,a1) lon nhat\n",
    "    Qmax = Qmax.data[0]         # Tensor Qmax -> float Qmax\n",
    "    targetQ = Q.clone().data    # Sao chép Qtarget <- Q. Không thể dùng phép gán ở đây **\n",
    "    targetQ[0][a] = r + y*Qmax  # Update Q(s,a)\n",
    "    targetQ = Variable(targetQ, requires_grad=False)   # Tensor -> Variable \n",
    "    loss = loss_fn(Q, targetQ)  # tính loss\n",
    "    optim.zero_grad()           # Update\n",
    "    loss.backward()             # backprop\n",
    "    optim.step()"
   ]
  },
  {
   "cell_type": "markdown",
   "metadata": {},
   "source": [
    "Định nghĩa hàm chuyển state kiểu int sang one-hot vector"
   ]
  },
  {
   "cell_type": "code",
   "execution_count": 26,
   "metadata": {
    "collapsed": true
   },
   "outputs": [],
   "source": [
    "def int2onehot(s):\n",
    "    return Variable(torch.Tensor(np.identity(16)[s:s+1]))        "
   ]
  },
  {
   "cell_type": "markdown",
   "metadata": {},
   "source": [
    "## Main"
   ]
  },
  {
   "cell_type": "code",
   "execution_count": 27,
   "metadata": {
    "collapsed": true
   },
   "outputs": [],
   "source": [
    "if __name__=='__main__':\n",
    "    for i in range(num_episodes):\n",
    "        s = env.reset()                    # Reset enviroment, return start state\n",
    "        s = int2onehot(s)\n",
    "        rAll = 0\n",
    "        d = False\n",
    "        j = 0\n",
    "        while j<100:\n",
    "            a,Q = selectAction(s)          # Select action\n",
    "            s1,r,d,info = env.step(a)      # executable action\n",
    "            s1 = int2onehot(s1)\n",
    "            UpdateQ(s1,r)                  # update Q-NNs\n",
    "            s = s1                         # update state\n",
    "            rAll += r                      # accumulate reward\n",
    "            j += 1\n",
    "            if d==True:\n",
    "                e = 1.0/((i*1.0/50+10))\n",
    "        jList.append(j)\n",
    "        rList.append(rAll)"
   ]
  },
  {
   "cell_type": "code",
   "execution_count": 28,
   "metadata": {
    "scrolled": true
   },
   "outputs": [
    {
     "data": {
      "image/png": "[encoded data removed]",
      "text/plain": [
       "<matplotlib.figure.Figure at 0x7f2f78273128>"
      ]
     },
     "metadata": {},
     "output_type": "display_data"
    },
    {
     "name": "stdout",
     "output_type": "stream",
     "text": [
      "end\n"
     ]
    }
   ],
   "source": [
    "plt.plot(rList) \n",
    "plt.show()\n",
    "print ('end')"
   ]
  },
  {
   "cell_type": "markdown",
   "metadata": {},
   "source": [
    "Biểu đồ trên cho thấy, số episode mà agent tới được vị trí Goal tăng dần trên toàn bộ 2000 episode"
   ]
  }
 ],
 "metadata": {
  "kernelspec": {
   "display_name": "Python 3",
   "language": "python",
   "name": "python3"
  },
  "language_info": {
   "codemirror_mode": {
    "name": "ipython",
    "version": 3
   },
   "file_extension": ".py",
   "mimetype": "text/x-python",
   "name": "python",
   "nbconvert_exporter": "python",
   "pygments_lexer": "ipython3",
   "version": "3.5.2"
  }
 },
 "nbformat": 4,
 "nbformat_minor": 2
}
